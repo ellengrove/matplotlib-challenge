{
 "cells": [
  {
   "cell_type": "markdown",
   "metadata": {},
   "source": [
    "# Pymaceuticals Inc.\n",
    "---\n",
    "\n",
    "### Analysis\n",
    "1. Mice treated with Capomulin or Ramicane had lower average, median, and standard deviation of tumor volumes compared to the other drug regimens. The final tumor volume at the end of the 45-day testing period for mice treated with Capomulin or Ramicane also had narrower IQRs than the those of the other drug regimens. \n",
    "2. Mouse b128 treated with Capomulin experienced a reduction in tumor volume (mm3) of approximately 10% (or a decrease in tumor volume of 6 mm3) over the 45-day testing period.\n",
    "3. For mice treated with Capomulin, mouse weight (g) and average tumor volume (mm3) are positively correlated. Based on the OLS regression model, for each gram a mouse weighs (beyond approximately 14 grams) corresponds to an increase in average tumor volume of 0.95 mm3. \n",
    "\n",
    "### Other Considerations\n",
    "1. It would be worth assessing on aggregate how much in raw and percentage terms the average tumor volume of mice on each of the treatments decreases over the testing period. "
   ]
  },
  {
   "cell_type": "code",
   "execution_count": null,
   "metadata": {},
   "outputs": [],
   "source": [
    "# Dependencies and Setup\n",
    "import matplotlib.pyplot as plt\n",
    "import pandas as pd\n",
    "import scipy.stats as st\n",
    "import numpy as np\n",
    "\n",
    "# Study data files\n",
    "mouse_metadata_path = \"data/Mouse_metadata.csv\"\n",
    "study_results_path = \"data/Study_results.csv\"\n",
    "\n",
    "# Read the mouse data and the study results\n",
    "mouse_metadata = pd.read_csv(mouse_metadata_path)\n",
    "study_results = pd.read_csv(study_results_path)\n",
    "\n",
    "# Combine the data into a single dataset\n",
    "study_df = pd.merge(study_results, mouse_metadata, on=\"Mouse ID\",how=\"left\")\n",
    "\n",
    "# Display the data table for preview\n",
    "study_df.head()"
   ]
  },
  {
   "cell_type": "code",
   "execution_count": null,
   "metadata": {
    "scrolled": true
   },
   "outputs": [],
   "source": [
    "# Checking the number of mice.\n",
    "len(study_df['Mouse ID'].unique())"
   ]
  },
  {
   "cell_type": "code",
   "execution_count": null,
   "metadata": {},
   "outputs": [],
   "source": [
    "# Look for duplicates between Mouse ID and Timepoint pairs\n",
    "dupes = study_df[study_df.duplicated(['Mouse ID', 'Timepoint'], keep=False)]\n",
    "dupes"
   ]
  },
  {
   "cell_type": "code",
   "execution_count": null,
   "metadata": {
    "scrolled": true
   },
   "outputs": [],
   "source": [
    "# Getting the duplicate mice by ID number that shows up for Mouse ID and Timepoint. \n",
    "dupe_list = dupes['Mouse ID'].unique()\n",
    "dupe_list"
   ]
  },
  {
   "cell_type": "code",
   "execution_count": null,
   "metadata": {
    "scrolled": true
   },
   "outputs": [],
   "source": [
    "# Optional: Get all the data for the duplicate mouse ID.\n",
    "dupe_mouse = study_df[study_df['Mouse ID'].isin(dupe_list)]\n",
    "dupe_mouse"
   ]
  },
  {
   "cell_type": "code",
   "execution_count": null,
   "metadata": {
    "scrolled": true
   },
   "outputs": [],
   "source": [
    "# Create a clean DataFrame by dropping the duplicate mouse by its ID (aka remove all records for that mouse)\n",
    "# There are multiple ways of doing this and it is good to search online to see the suggestions.\n",
    "study_clean_df = pd.DataFrame(study_df[~study_df['Mouse ID'].isin(dupe_list)])"
   ]
  },
  {
   "cell_type": "code",
   "execution_count": null,
   "metadata": {},
   "outputs": [],
   "source": [
    "# Checking the number of mice in the clean DataFrame.\n",
    "len(study_clean_df['Mouse ID'].unique())"
   ]
  },
  {
   "cell_type": "markdown",
   "metadata": {},
   "source": [
    "## Summary Statistics"
   ]
  },
  {
   "cell_type": "code",
   "execution_count": null,
   "metadata": {},
   "outputs": [],
   "source": [
    "# Method 1:  Generate a summary statistics table of mean, median, variance, standard deviation, \n",
    "# and SEM of the tumor volume for each regimen\n",
    "# by using groupby and summary statistical methods to calculate the following \n",
    "#properties of each drug regimen: \n",
    "# mean, median, variance, standard deviation, and SEM of the tumor volume. \n",
    "# Assemble the resulting series into a single summary dataframe.\n",
    "\n",
    "by_regimen = study_clean_df.groupby(['Drug Regimen'])\n",
    "mean = by_regimen['Tumor Volume (mm3)'].mean()\n",
    "median = by_regimen['Tumor Volume (mm3)'].median()\n",
    "var = by_regimen['Tumor Volume (mm3)'].var()\n",
    "std = by_regimen['Tumor Volume (mm3)'].std()\n",
    "sem = by_regimen['Tumor Volume (mm3)'].sem()"
   ]
  },
  {
   "cell_type": "code",
   "execution_count": null,
   "metadata": {},
   "outputs": [],
   "source": [
    "summary_stats = pd.DataFrame({'Mean Tumor Volume' : mean,\n",
    "                             'Median Tumor Volume' : median,\n",
    "                             'Tumor Volume Variance' : var,\n",
    "                             'Tumor Volume Std. Dev.' : std,\n",
    "                             'Tumor Volume Std. Err.' : sem})\n",
    "summary_stats"
   ]
  },
  {
   "cell_type": "code",
   "execution_count": null,
   "metadata": {},
   "outputs": [],
   "source": [
    "# Method 2:  Generate a summary statistics table of \n",
    "# mean, median, variance, standard deviation, and SEM of the tumor volume for each regimen\n",
    "# by using the aggregation method, produce the same summary statistics in a single line\n",
    "summary_stats_agg = by_regimen['Tumor Volume (mm3)'].agg(['mean','median','var','std','sem'])\n",
    "summary_stats_agg = summary_stats_agg.rename(columns={'mean' : 'Mean Tumor Volume',\n",
    "                             'median' : 'Median Tumor Volume',\n",
    "                             'var' : 'Tumor Volume Variance',\n",
    "                             'std' : 'Tumor Volume Std. Dev.',\n",
    "                             'sem' : 'Tumor Volume Std. Err.'})\n",
    "summary_stats_agg"
   ]
  },
  {
   "cell_type": "code",
   "execution_count": null,
   "metadata": {
    "scrolled": true
   },
   "outputs": [],
   "source": [
    "# Generate a bar plot showing the total number of timepoints for all mice tested for each drug regimen using Pandas.\n",
    "bar_regimen = by_regimen['Timepoint'].count()\n",
    "bar_regimen = bar_regimen.sort_values(ascending=False)\n",
    "bar_regimen.plot(kind='bar')\n",
    "plt.ylabel('Number of Mice Tested')\n",
    "plt.title('Pandas: Number of Mice Tested per Drug')"
   ]
  },
  {
   "cell_type": "code",
   "execution_count": null,
   "metadata": {
    "scrolled": true
   },
   "outputs": [],
   "source": [
    "# Generate a bar plot showing the total number of timepoints \n",
    "# for all mice tested for each drug regimen using pyplot.\n",
    "x_axis = np.arange(1,len(bar_regimen) + 1)\n",
    "plt.bar(x_axis,bar_regimen,width=.6)\n",
    "plt.xticks(x_axis,bar_regimen.index,rotation='vertical')\n",
    "plt.xlabel('Drug Regimen')\n",
    "plt.ylabel('Number of Mice Tested')\n",
    "plt.title('Matplotlib: Number of Mice Tested per Drug')"
   ]
  },
  {
   "cell_type": "code",
   "execution_count": null,
   "metadata": {},
   "outputs": [],
   "source": [
    "# Method1:  Generate a pie plot showing the distribution \n",
    "# of female versus male mice using Pandas\n",
    "by_sex = study_clean_df.groupby(['Sex'])\n",
    "by_sex = by_sex['Sex'].count()\n",
    "by_sex = by_sex.sort_values(ascending=False)\n",
    "by_sex.plot(kind='pie',autopct = lambda p:f'{p:.1f}%')\n",
    "plt.title('Pandas: Percentage of Male vs Female Measurements Taken')"
   ]
  },
  {
   "cell_type": "code",
   "execution_count": null,
   "metadata": {},
   "outputs": [],
   "source": [
    "# Method 2:  Generate a pie plot showing the distribution \n",
    "# of female versus male mice using matplotlib (aka pyplot, plt)\n",
    "labels = by_sex.index\n",
    "plt.pie(by_sex,labels=labels,autopct = lambda p:f'{p:.1f}%')\n",
    "plt.ylabel('Sex')\n",
    "plt.title('Matplotlib: Percentage of Male vs Female Measurements Taken')"
   ]
  },
  {
   "cell_type": "markdown",
   "metadata": {},
   "source": [
    "## Quartiles, Outliers and Boxplots"
   ]
  },
  {
   "cell_type": "code",
   "execution_count": null,
   "metadata": {},
   "outputs": [],
   "source": [
    "# Calculate the final tumor volume of each mouse across four of the treatment regimens:  \n",
    "# Capomulin, Ramicane, Infubinol, and Ceftamin\n",
    "treatments_subset = study_clean_df.loc[study_clean_df['Drug Regimen'].isin(\n",
    "                                       ['Capomulin','Ramicane','Infubinol','Ceftamin']),:]\n",
    "final_tp = treatments_subset.groupby(['Drug Regimen','Mouse ID'])\n",
    "final_tp_df = pd.DataFrame(final_tp['Timepoint'].max()).copy()"
   ]
  },
  {
   "cell_type": "code",
   "execution_count": null,
   "metadata": {
    "scrolled": true
   },
   "outputs": [],
   "source": [
    "# Merge this group df with the original dataframe to get the tumor volume at the last timepoint\n",
    "final_tp_df = pd.merge(final_tp_df,study_clean_df,how='left',\n",
    "                       on=['Drug Regimen','Mouse ID','Timepoint'])"
   ]
  },
  {
   "cell_type": "code",
   "execution_count": null,
   "metadata": {
    "scrolled": false
   },
   "outputs": [],
   "source": [
    "# Put treatments into a list for for loop (and later for plot labels)\n",
    "treatments = final_tp_df['Drug Regimen'].unique()\n",
    "tumor_volume = []\n",
    "treatments\n",
    "\n",
    "# generate list of lists which hold each mouse's final tumor volume per treatment\n",
    "for treatment in treatments:\n",
    "    volume_temp = final_tp_df.loc[final_tp_df['Drug Regimen'] == treatment,['Tumor Volume (mm3)']]\n",
    "    volume_temp = volume_temp['Tumor Volume (mm3)'].to_list()\n",
    "    tumor_volume.append(volume_temp)"
   ]
  },
  {
   "cell_type": "code",
   "execution_count": null,
   "metadata": {},
   "outputs": [],
   "source": [
    "# loop through treatments and identify outliers based on upper and lower bounds\n",
    "for x in range(len(tumor_volume)):\n",
    "    quartiles = pd.Series(tumor_volume[x]).quantile([.25,.5,.75])\n",
    "    lowerq = quartiles[0.25]\n",
    "    upperq = quartiles[0.75]\n",
    "    iqr = upperq-lowerq\n",
    "    upper_bound = upperq + (1.5*iqr)\n",
    "    lower_bound = lowerq - (1.5*iqr)\n",
    "    \n",
    "    for num in (tumor_volume[x]):\n",
    "        if (num > upper_bound) or (num < lower_bound):\n",
    "            print(f\"Treatment {treatments[x]} has a potential outlier at {num} .\")"
   ]
  },
  {
   "cell_type": "code",
   "execution_count": null,
   "metadata": {},
   "outputs": [],
   "source": [
    "# Generate boxplots for final tumor volume for each of the four drug regimens\n",
    "fig, ax = plt.subplots()\n",
    "flierprops = dict(marker='o', markerfacecolor='r',markersize=10)\n",
    "ax.boxplot(tumor_volume,flierprops = flierprops)\n",
    "ax.set_xticklabels(treatments)\n",
    "plt.ylabel('Final Tumor Volume (mm3)')\n",
    "plt.title('Boxplot: Final Tumor Volume (mm3) by Drug Regimen')"
   ]
  },
  {
   "cell_type": "markdown",
   "metadata": {},
   "source": [
    "## Line and Scatter Plots"
   ]
  },
  {
   "cell_type": "code",
   "execution_count": null,
   "metadata": {},
   "outputs": [],
   "source": [
    "# Generate a line plot of tumor volume vs. time point for a mouse treated with Capomulin\n",
    "capomulin = study_clean_df.loc[(study_clean_df['Drug Regimen'] == 'Capomulin'),:]\n",
    "\n",
    "# print all the mice who were treated with Capomulin and the number of timepoints recorded\n",
    "capomulin['Mouse ID'].value_counts()"
   ]
  },
  {
   "cell_type": "code",
   "execution_count": null,
   "metadata": {
    "scrolled": true
   },
   "outputs": [],
   "source": [
    "# retain only data for mouse 'b128' and sort data by Timepoint variable\n",
    "capomulin_b128 = capomulin.loc[capomulin['Mouse ID'] == 'b128',:]\n",
    "capomulin_b128 = capomulin_b128.sort_values(by='Timepoint')"
   ]
  },
  {
   "cell_type": "code",
   "execution_count": null,
   "metadata": {},
   "outputs": [],
   "source": [
    "# Generate a line chart of tumor volume over time for mouse 'b128' \n",
    "# being treated with Capomulin\n",
    "x_axis_cap = np.arange(0,len(capomulin_b128['Timepoint']))\n",
    "labels_cap = capomulin_b128['Timepoint']\n",
    "y_axis_cap = capomulin_b128['Tumor Volume (mm3)']\n",
    "plt.plot(x_axis_cap,y_axis_cap)\n",
    "plt.xticks(x_axis_cap, labels=labels_cap)\n",
    "plt.title('Capomulin Treatment of Mouse b128')\n",
    "plt.ylabel('Tumor Volume (mm3)')\n",
    "plt.xlabel('Timepoint (days)')\n",
    "plt.xlim(0,len(x_axis_cap)-1)"
   ]
  },
  {
   "cell_type": "code",
   "execution_count": null,
   "metadata": {},
   "outputs": [],
   "source": [
    "# Generate a scatter plot of average tumor volume vs. average mouse weight \n",
    "# of each mouse treated with the Capomulin regimen\n",
    "cap_by_mouse = capomulin.groupby('Mouse ID')\n",
    "avg_weight = cap_by_mouse['Weight (g)'].mean()\n",
    "avg_tumor_size = cap_by_mouse['Tumor Volume (mm3)'].mean()\n",
    "\n",
    "plt.scatter(avg_weight,avg_tumor_size)\n",
    "plt.xlabel('Average Weight (g)')\n",
    "plt.ylabel('Average Tumor Volume (mm3)')\n",
    "plt.title('Average Weight to Average Tumor Volume of Mice Treated with Capomulin')"
   ]
  },
  {
   "cell_type": "markdown",
   "metadata": {},
   "source": [
    "## Correlation and Regression"
   ]
  },
  {
   "cell_type": "code",
   "execution_count": null,
   "metadata": {},
   "outputs": [],
   "source": [
    "# Calculate the correlation coefficient and linear regression model \n",
    "# for mouse weight and average tumor volume for the Capomulin regimen\n",
    "correlation = st.pearsonr(avg_weight,avg_tumor_size)"
   ]
  },
  {
   "cell_type": "code",
   "execution_count": null,
   "metadata": {
    "scrolled": true
   },
   "outputs": [],
   "source": [
    "# calculate linear regression model\n",
    "(slope,intercept,rvalue,pvalue,stderr) = st.linregress(avg_weight, avg_tumor_size)\n",
    "best_fit = avg_weight * slope + intercept\n",
    "line_annotate = f\"y = {round(slope,2)}x + {round(intercept,2)} \"\n",
    "\n",
    "# scatter plot with best fit line superimposed\n",
    "plt.scatter(avg_weight,avg_tumor_size)\n",
    "plt.plot(avg_weight,best_fit,color='red')\n",
    "plt.annotate(line_annotate,(21,36), color='red',fontsize=12)\n",
    "plt.xlabel('Average Weight (g)')\n",
    "plt.ylabel('Average Tumor Volume (mm3)')\n",
    "plt.title('Average Weight to Average Tumor Volume of Mice Treated with Capomulin')\n",
    "\n",
    "print(\"The correlation between average mouse weight and average tumor volume\" +\n",
    "      f\" for mice under the Capomulin regimen is {round(correlation[0],2)}. \")"
   ]
  }
 ],
 "metadata": {
  "anaconda-cloud": {},
  "kernelspec": {
   "display_name": "Python [conda env:PythonData38] *",
   "language": "python",
   "name": "conda-env-PythonData38-py"
  },
  "language_info": {
   "codemirror_mode": {
    "name": "ipython",
    "version": 3
   },
   "file_extension": ".py",
   "mimetype": "text/x-python",
   "name": "python",
   "nbconvert_exporter": "python",
   "pygments_lexer": "ipython3",
   "version": "3.8.12"
  }
 },
 "nbformat": 4,
 "nbformat_minor": 4
}
